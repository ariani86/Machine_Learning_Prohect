{
 "cells": [
  {
   "cell_type": "code",
   "execution_count": 1,
   "metadata": {},
   "outputs": [],
   "source": [
    "import pandas as pd\n",
    "import numpy as np\n",
    "import re\n",
    "import matplotlib.pyplot as plt\n",
    "from pandas.plotting import scatter_matrix\n",
    "from sklearn.model_selection import train_test_split\n",
    "from sklearn import linear_model\n",
    "from sklearn.linear_model import LogisticRegression\n",
    "from sklearn.metrics import confusion_matrix, roc_auc_score\n",
    "from sklearn.ensemble import RandomForestClassifier\n",
    "import seaborn as sns\n",
    "from xgboost import XGBRegressor\n",
    "from scipy import stats\n",
    "from scipy.stats import norm, skew\n",
    "from sklearn.metrics import mean_squared_error\n",
    "from sklearn.metrics import r2_score\n",
    "import pickle\n",
    "from sklearn.linear_model import ElasticNet, Lasso,  BayesianRidge, LogisticRegression, ElasticNetCV, Ridge\n",
    "from sklearn import tree\n",
    "import sklearn.model_selection as ms\n",
    "from sklearn.kernel_ridge import KernelRidge\n",
    "from sklearn.ensemble import RandomForestRegressor\n",
    "\n",
    "from pandas.plotting import scatter_matrix\n",
    "import matplotlib.pyplot as plt\n",
    "from sklearn.model_selection import GridSearchCV\n",
    "from scipy.special import boxcox1p\n",
    "from sklearn import preprocessing\n",
    "from sklearn.decomposition import PCA\n",
    "import xgboost as xgb"
   ]
  },
  {
   "cell_type": "code",
   "execution_count": 58,
   "metadata": {},
   "outputs": [],
   "source": [
    "def process_data(df, mode='train', pca_flag=True):\n",
    "    \n",
    "    for col in ('GarageType','GarageFinish', 'GarageQual', 'GarageCond'):\n",
    "        df[col] = df[col].fillna('None')\n",
    "        \n",
    "    for col in ('GarageYrBlt', 'GarageArea', 'GarageCars'):\n",
    "        df[col] = df[col].fillna(0)\n",
    "        \n",
    "    for col in ('BsmtQual', 'BsmtCond', 'BsmtExposure', 'BsmtFinType1', 'BsmtFinType2'):\n",
    "        df[col] = df[col].fillna('None')\n",
    "        \n",
    "    df[\"MasVnrType\"] = df[\"MasVnrType\"].fillna(\"None\")\n",
    "    df[\"MasVnrArea\"] = df[\"MasVnrArea\"].fillna(0)\n",
    "    df['MSZoning'] = df['MSZoning'].fillna(df['MSZoning'].mode()[0])\n",
    "    \n",
    "    df[\"Functional\"] = df[\"Functional\"].fillna(\"Typ\")\n",
    "    df['Electrical'] = df['Electrical'].fillna(df['Electrical'].mode()[0])\n",
    "    df['KitchenQual'] = df['KitchenQual'].fillna(df['KitchenQual'].mode()[0])\n",
    "    df['Exterior1st'] = df['Exterior1st'].fillna(df['Exterior1st'].mode()[0])\n",
    "    df['Exterior2nd'] = df['Exterior2nd'].fillna(df['Exterior2nd'].mode()[0])\n",
    "    df['SaleType'] = df['SaleType'].fillna(df['SaleType'].mode()[0])\n",
    "    df['MSSubClass'] = df['MSSubClass'].fillna(\"None\")\n",
    "    df[\"PoolQC\"] = df[\"PoolQC\"].fillna(\"None\")\n",
    "    df[\"MiscFeature\"] = df[\"MiscFeature\"].fillna(\"None\")\n",
    "    df[\"Alley\"] = df[\"Alley\"].fillna(\"None\")\n",
    "    df[\"FireplaceQu\"] = df[\"FireplaceQu\"].fillna(\"None\")\n",
    "    df[\"Fence\"] = df[\"Fence\"].fillna(\"None\")\n",
    "    #taking some numerical features converting them into categorical features\n",
    "    df['MSSubClass'] = df['MSSubClass'].apply(str)\n",
    "    #Changing OverallCond into a categorical variable\n",
    "    df['OverallCond'] = df['OverallCond'].astype(str)\n",
    "    #Year and month sold are transformed into categorical features.\n",
    "    df['YrSold'] = df['YrSold'].astype(str)\n",
    "    df['MoSold'] = df['MoSold'].astype(str)\n",
    "    df['TotalSF'] = (\n",
    "    df['BsmtFinSF1'].fillna(0) +\n",
    "    df['BsmtFinSF2'].fillna(0) +\n",
    "    df['1stFlrSF'].fillna(0) +\n",
    "    df['2ndFlrSF'].fillna(0)\n",
    "    )\n",
    "    df['GarageCond'] = df['GarageCond'].map({'Ex': 4, 'Gd': 3, 'TA': 2, 'Fa': 1, 'Po': 0, 'None':0})\n",
    "    df['GarageQual'] = df['GarageQual'].map({'Ex': 4, 'Gd': 3, 'TA': 2, 'Fa': 1, 'Po': 0, 'None':0})\n",
    "    df['BsmtQual'] = df['BsmtQual'].map({'Ex': 4, 'Gd': 3, 'TA': 2, 'Fa': 1, 'Po': 0, 'None':0})\n",
    "    df['BsmtCond'] = df['BsmtCond'].map({'Ex': 4, 'Gd': 3, 'TA': 2, 'Fa': 1, 'Po': 0, 'None':0})\n",
    "    df['KitchenQual'] = df['KitchenQual'].map({'Ex': 4, 'Gd': 3, 'TA': 2, 'Fa': 1, 'Po': 0})\n",
    "    df['ExterQual'] = df['ExterQual'].map({'Ex': 4, 'Gd': 3, 'TA': 2, 'Fa': 1, 'Po': 0})\n",
    "    df['ExterCond'] = df['ExterCond'].map({'Ex': 4, 'Gd': 3, 'TA': 2, 'Fa': 1, 'Po': 0})\n",
    "    df['HeatingQC'] = df['HeatingQC'].map({'Ex': 4, 'Gd': 3, 'TA': 2, 'Fa': 1, 'Po': 0})\n",
    "    df['BsmtFinType1'] = df['BsmtFinType1'].map({'GLQ':6,'ALQ':5,'BLQ':4,'Rec':3,'LwQ':2,'Unf':1,\"NA\":0,'None':0})\n",
    "    df['BsmtFinType2'] = df['BsmtFinType2'].map({'GLQ':6,'ALQ':5,'BLQ':4,'Rec':3,'LwQ':2,'Unf':1,\"NA\":0,'None':0})\n",
    "    df['Functional'] = df['Functional'].map({'Typ':7,'Min1':6,'Min2':5,'Mod':4,'Maj1':3,'Maj2':2,'Sev':1,\"Sal\":0})\n",
    "    df['BsmtExposure'] = df['BsmtExposure'].map({'Gd':4,'Av':3,'Mn':2,'No':1,\"NA\":0, 'None':0})\n",
    "    df['GarageFinish'] = df['GarageFinish'].map({'Fin':3,'RFn':2,'Unf':1,\"None\":0,\"NA\":0})\n",
    "    df['LandSlope'] = df['LandSlope'].map({'Gtl':2,'Mod':1,\"Sev\":0})\n",
    "    df['LotShape'] = df['LotShape'].map({'Reg':3,'IR1':2,'IR2':1,\"IR3\":0})\n",
    "    df['PavedDrive'] = df['PavedDrive'].map({'Y':2,'P':1,\"N\":0})\n",
    "    df['CentralAir'] = df['CentralAir'].map({'Y': 1,'N': 0})\n",
    "    columnsofneed = df.columns\n",
    "    columnsofneed = columnsofneed.drop(['Id','Alley','PoolQC','Fence','MiscFeature','SalePrice','BsmtFinSF1',\n",
    "                                    'BsmtFinSF2','1stFlrSF','2ndFlrSF','Utilities','BsmtFullBath','BsmtHalfBath','KitchenAbvGr'])\n",
    "    \n",
    "    df[\"LotFrontage\"] = df.groupby(\"Neighborhood\")[\"LotFrontage\"].transform(\n",
    "                                                                    lambda x: x.fillna(x.median()))\n",
    "    \n",
    "    numeric_feats = df.dtypes[df.dtypes != \"object\"].index\n",
    "    skewed_feats = df[numeric_feats].apply(lambda x: skew(x.dropna())).sort_values(ascending=False)\n",
    "    skewness = pd.DataFrame({'Skew' :skewed_feats})\n",
    "    skewed_features = skewness.index\n",
    "    lam = 0.15\n",
    "    for feat in skewed_features:\n",
    "        df[feat] = boxcox1p(df[feat], lam)\n",
    "        \n",
    "    X = pd.get_dummies(df[columnsofneed])\n",
    "#     cols = list(X.columns)\n",
    "#     pickle.dump(cols, open('./headers.pkl', 'wb'))\n",
    "    \n",
    "    headers = pickle.load(open('./headers.pkl', 'rb'))\n",
    "    for col in headers:\n",
    "        if col not in list(X):\n",
    "            X[col] = 0\n",
    "    X = X[headers]\n",
    "    scaler = preprocessing.MinMaxScaler()\n",
    "    x = scaler.fit_transform(X)\n",
    "        \n",
    "    if (pca_flag==True)&(mode=='train'):\n",
    "        pca = PCA(n_components=85).fit(x)\n",
    "        x = pca.transform(x)\n",
    "        pickle.dump(pca, open('./pca_model.pkl', 'wb'))\n",
    "    elif (pca_flag==True)&(mode=='test'):\n",
    "        pca = pickle.load(open('./pca_model.pkl', 'rb'))\n",
    "        x = pca.transform(x)\n",
    "    else:\n",
    "        pass\n",
    "    \n",
    "    y = np.log1p(df['SalePrice'])\n",
    "    return x,y\n",
    "    \n",
    "        \n",
    "    \n",
    "def training_results(X,y):\n",
    "    #Linear Regression:\n",
    "    linear = linear_model.LinearRegression()\n",
    "    #Ridge Regression:\n",
    "    ridg = linear_model.Ridge(alpha=20.0, copy_X=True, fit_intercept=True, max_iter=None,\n",
    "   normalize=False, random_state=None, solver='auto', tol=0.001)\n",
    "    #Lasso Regression\n",
    "    lass = linear_model.Lasso(alpha=0.001, copy_X=True, fit_intercept=True, max_iter=300,\n",
    "   normalize=False, positive=False, precompute=False, random_state=None,\n",
    "   selection='random', tol=0.01, warm_start=False)\n",
    "    #Kernel Ridge Regression:\n",
    "    krr = KernelRidge(alpha=1e-05, coef0=25, degree=1, gamma=None, kernel='polynomial',\n",
    "      kernel_params=None)\n",
    "\n",
    "    #ElasticNet Model:\n",
    "    enet = linear_model.ElasticNet(alpha=0.01, copy_X=True, fit_intercept=True, l1_ratio=0.001,\n",
    "      max_iter=5000, normalize=False, positive=False, precompute=False,\n",
    "      random_state=None, selection='random', tol=0.0001, warm_start=False),\n",
    "    #Decision Tree Regression:\n",
    "    dtree = tree.DecisionTreeRegressor()\n",
    "    #Random Forest:  ('RFOR',rfor)\n",
    "    rfor = RandomForestRegressor(bootstrap=True, criterion='mse', max_depth=10,\n",
    "           max_features='auto', max_leaf_nodes=None,\n",
    "           min_impurity_decrease=0.0, min_impurity_split=None,\n",
    "           min_samples_leaf=1, min_samples_split=2,\n",
    "           min_weight_fraction_leaf=0.0, n_estimators=400, n_jobs=1,\n",
    "           oob_score=False, random_state=None, verbose=0, warm_start=False)\n",
    "\n",
    "\n",
    "\n",
    "    models = [('LR', linear),('TREE', dtree),('KRR',krr),('RIDG',ridg),('LASS',lass),('RFOREST',rfor)]\n",
    "\n",
    "    results = []\n",
    "    names = []\n",
    "    for name, model in models:\n",
    "        model.fit(X,y)\n",
    "        model_path = './'+name+'_model.pkl'\n",
    "        pickle.dump(model, open(model_path, 'wb'))\n",
    "        r_sq = ms.cross_val_score(model, X, y, cv=10, scoring='r2')\n",
    "        rmse_score = np.sqrt((abs(ms.cross_val_score(model,X, y, cv=15, scoring='neg_mean_squared_error'))))\n",
    "        results.append(rmse_score)\n",
    "        names.append(name)\n",
    "        msg = \"%s:  RMSE: %.4f (%.4f)  R^2: %.4f (%.4f)\" %(name,rmse_score.mean(),rmse_score.std(),r_sq.mean(),r_sq.std())\n",
    "        print(msg)\n",
    "\n",
    "    # Compare Algorithms\n",
    "    fig = plt.figure()\n",
    "    fig.suptitle('Algorithm Comparison')\n",
    "    ax = fig.add_subplot(111)\n",
    "    plt.boxplot(results)\n",
    "    ax.set_xticklabels(names)\n",
    "    fig.set_size_inches(4,4)\n",
    "    plt.show()\n",
    "    \n",
    "def testing_results(X,y):\n",
    "    linear = pickle.load(open('./LR_model.pkl', 'rb'))\n",
    "    dtree = pickle.load(open('./TREE_model.pkl', 'rb'))\n",
    "    krr = pickle.load(open('./KRR_model.pkl', 'rb'))\n",
    "    ridg = pickle.load(open('./RIDG_model.pkl', 'rb'))\n",
    "    lass = pickle.load(open('./LASS_model.pkl', 'rb'))\n",
    "    rfor = pickle.load(open('./RFOREST_model.pkl', 'rb'))\n",
    "    \n",
    "    models = [('LR', linear),('TREE', dtree),('KRR',krr),('RIDG',ridg),('LASS',lass),('RFOREST',rfor)]\n",
    "    \n",
    "    results = []\n",
    "    names = []\n",
    "    for name, model in models:\n",
    "        y_pred = model.predict(X)\n",
    "        rmse = np.sqrt(mean_squared_error(y, y_pred))\n",
    "        results.append(rmse)\n",
    "        names.append(name)\n",
    "        r2 = r2_score(y, y_pred)\n",
    "        print(name+' Testing RMSE: {}'.format(rmse))\n",
    "        print(name+' Testing R^2: {}'.format(r2))\n",
    "    # Compare Algorithms\n",
    "    fig = plt.figure()\n",
    "    fig.suptitle('Algorithm Comparison')\n",
    "    ax = fig.add_subplot(111)\n",
    "    plt.boxplot(results)\n",
    "    ax.set_xticklabels(names)\n",
    "    fig.set_size_inches(6,6)\n",
    "    plt.show()"
   ]
  },
  {
   "cell_type": "code",
   "execution_count": 66,
   "metadata": {},
   "outputs": [
    {
     "name": "stdout",
     "output_type": "stream",
     "text": [
      "(1168, 81)\n",
      "(292, 81)\n"
     ]
    }
   ],
   "source": [
    "train_input = pd.read_csv('/Users/arianiherrera/Downloads/all/train.csv')\n",
    "test_size = int(train_input.shape[0]*.2)\n",
    "test_input = train_input.sample(test_size)\n",
    "train_input = train_input.loc[~train_input.index.isin(test_input.index)]\n",
    "train_input.reset_index(drop=True,inplace=True)\n",
    "test_input.reset_index(drop=True,inplace=True)\n",
    "print(train_input.shape)\n",
    "print(test_input.shape)"
   ]
  },
  {
   "cell_type": "markdown",
   "metadata": {},
   "source": [
    "Using PCA"
   ]
  },
  {
   "cell_type": "code",
   "execution_count": 64,
   "metadata": {},
   "outputs": [
    {
     "name": "stdout",
     "output_type": "stream",
     "text": [
      "TRAINING...\n",
      "LR:  RMSE: 0.0275 (0.0039)  R^2: 0.8414 (0.0447)\n",
      "TREE:  RMSE: 0.0532 (0.0046)  R^2: 0.4527 (0.0927)\n",
      "KRR:  RMSE: 0.0275 (0.0039)  R^2: 0.8414 (0.0447)\n",
      "RIDG:  RMSE: 0.0277 (0.0038)  R^2: 0.8396 (0.0393)\n",
      "LASS:  RMSE: 0.0333 (0.0038)  R^2: 0.7701 (0.0342)\n",
      "RFOREST:  RMSE: 0.0353 (0.0052)  R^2: 0.7442 (0.0408)\n"
     ]
    },
    {
     "data": {
      "image/png": "[encoded data removed]",
      "text/plain": [
       "<Figure size 432x432 with 1 Axes>"
      ]
     },
     "metadata": {},
     "output_type": "display_data"
    }
   ],
   "source": [
    "# Testing functions with pca included\n",
    "X_train, y_train = process_data(train_input, mode='train', pca_flag=True)\n",
    "X_test, y_test = process_data(test_input, mode='test', pca_flag=True)\n",
    "\n",
    "print('TRAINING...')\n",
    "training_results(X_train, y_train)\n"
   ]
  },
  {
   "cell_type": "code",
   "execution_count": 60,
   "metadata": {},
   "outputs": [
    {
     "name": "stdout",
     "output_type": "stream",
     "text": [
      "TESTING...\n",
      "LR Testing RMSE: 0.026238420251948242\n",
      "LR Testing R^2: 0.8365439179789139\n",
      "TREE Testing RMSE: 0.05156153129990197\n",
      "TREE Testing R^2: 0.36878497073136496\n",
      "KRR Testing RMSE: 0.026238376894440724\n",
      "KRR Testing R^2: 0.8365444581823547\n",
      "RIDG Testing RMSE: 0.026238187113365615\n",
      "RIDG Testing R^2: 0.8365468227079043\n",
      "LASS Testing RMSE: 0.03285603464080051\n",
      "LASS Testing R^2: 0.7436956289090108\n",
      "RFOREST Testing RMSE: 0.03231620256314814\n",
      "RFOREST Testing R^2: 0.7520487164780436\n"
     ]
    },
    {
     "data": {
      "image/png": "[encoded data removed]",
      "text/plain": [
       "<Figure size 432x432 with 1 Axes>"
      ]
     },
     "metadata": {},
     "output_type": "display_data"
    }
   ],
   "source": [
    "print('TESTING...')\n",
    "testing_results(X_test, y_test)"
   ]
  },
  {
   "cell_type": "markdown",
   "metadata": {},
   "source": [
    "Not Using PCA"
   ]
  },
  {
   "cell_type": "code",
   "execution_count": 67,
   "metadata": {},
   "outputs": [
    {
     "name": "stdout",
     "output_type": "stream",
     "text": [
      "TRAINING...\n",
      "LR:  RMSE: 115970031.5959 (263801354.2059)  R^2: -31369059064765931520.0000 (79283783511179657216.0000)\n",
      "TREE:  RMSE: 0.0376 (0.0052)  R^2: 0.6877 (0.0396)\n",
      "KRR:  RMSE: 0.0247 (0.0071)  R^2: 0.8440 (0.1070)\n",
      "RIDG:  RMSE: 0.0245 (0.0048)  R^2: 0.8616 (0.0425)\n",
      "LASS:  RMSE: 0.0279 (0.0047)  R^2: 0.8234 (0.0330)\n",
      "RFOREST:  RMSE: 0.0250 (0.0046)  R^2: 0.8572 (0.0356)\n"
     ]
    },
    {
     "data": {
      "image/png": "[encoded data removed]",
      "text/plain": [
       "<Figure size 432x432 with 1 Axes>"
      ]
     },
     "metadata": {},
     "output_type": "display_data"
    },
    {
     "name": "stdout",
     "output_type": "stream",
     "text": [
      "TESTING...\n",
      "LR Testing RMSE: 543708089.4285309\n",
      "LR Testing R^2: -5.197924059444258e+19\n",
      "TREE Testing RMSE: 0.07022686121943748\n",
      "TREE Testing R^2: 0.13282877721762698\n",
      "KRR Testing RMSE: 0.04504265811878198\n",
      "KRR Testing R^2: 0.6432644712720557\n",
      "RIDG Testing RMSE: 0.030496611410118023\n",
      "RIDG Testing R^2: 0.8364684651000639\n",
      "LASS Testing RMSE: 0.038821621955433434\n",
      "LASS Testing R^2: 0.7350001102122782\n",
      "RFOREST Testing RMSE: 0.06020487510026348\n",
      "RFOREST Testing R^2: 0.3626739640465231\n"
     ]
    },
    {
     "data": {
      "image/png": "[encoded data removed]",
      "text/plain": [
       "<Figure size 432x432 with 1 Axes>"
      ]
     },
     "metadata": {},
     "output_type": "display_data"
    }
   ],
   "source": [
    "A_train, B_train = process_data(train_input, mode='train', pca_flag=False)\n",
    "A_test, B_test = process_data(test_input, mode='test', pca_flag=False)\n",
    "print('TRAINING...')\n",
    "training_results(A_train, B_train)\n",
    "print('TESTING...')\n",
    "testing_results(A_test, B_test)"
   ]
  },
  {
   "cell_type": "code",
   "execution_count": 51,
   "metadata": {},
   "outputs": [],
   "source": [
    "def GS_model(X, y, ML_model ,param_grid, cv=10):\n",
    "    para_search = GridSearchCV(estimator=ML_model, param_grid=param_grid, scoring='neg_mean_squared_error', cv=cv, \\\n",
    "                           return_train_score=True)\n",
    "    para_search = para_search.fit(X,y)\n",
    "    return(para_search.best_estimator_)\n"
   ]
  },
  {
   "cell_type": "code",
   "execution_count": 34,
   "metadata": {},
   "outputs": [],
   "source": [
    "# set up models and params for gridsearch\n",
    "\n",
    "KRR = KernelRidge()\n",
    "KRR_grid_param = {'alpha': np.linspace(.00001,.0005, num=1), 'coef0': [5, 10, 25], \\\n",
    "             'degree': [1], 'gamma': [None], 'kernel': ['polynomial']}\n",
    "LASS=Lasso()\n",
    "LASS_grid_param = {'alpha':np.linspace(0.0001,0.01,num=20), 'copy_X': [True], 'fit_intercept': [True], \\\n",
    "               'normalize': [False], 'precompute': [False],'max_iter': [300],'tol': [0.01], \\\n",
    "               'selection': ['random'], 'random_state': [None]}\n",
    "RR=Ridge()\n",
    "RR_grid_param = {'alpha': np.linspace(5,20,num=2)}\n",
    "RFR=RandomForestRegressor()\n",
    "RFR_grid_param = {'n_estimators': [400], 'max_features': ['auto','sqrt'], 'max_depth': [8,9,10],\\\n",
    "                  'criterion': ['mse'],'verbose':[2]}\n",
    "EN=ElasticNet()\n",
    "EN_grid_param = {'alpha': [.001,.01], 'copy_X': [True], \\\n",
    "              'l1_ratio': [.001,.0001], 'fit_intercept': [True], \\\n",
    "              'normalize': [False],'precompute': [False], 'max_iter': [5000], 'tol': [0.0001], \\\n",
    "              'selection': ['random'],'random_state': [None]}"
   ]
  },
  {
   "cell_type": "code",
   "execution_count": null,
   "metadata": {},
   "outputs": [],
   "source": [
    "GS_model(X=X_train,y=y_train,ML_model=KRR,param_grid=KRR_grid_param)"
   ]
  },
  {
   "cell_type": "code",
   "execution_count": 27,
   "metadata": {},
   "outputs": [
    {
     "data": {
      "text/plain": [
       "Lasso(alpha=0.001, copy_X=True, fit_intercept=True, max_iter=300,\n",
       "   normalize=False, positive=False, precompute=False, random_state=None,\n",
       "   selection='random', tol=0.01, warm_start=False)"
      ]
     },
     "execution_count": 27,
     "metadata": {},
     "output_type": "execute_result"
    }
   ],
   "source": [
    "GS_model(X=X_train,y=y_train,ML_model=LASS,param_grid=LASS_grid_param)"
   ]
  },
  {
   "cell_type": "code",
   "execution_count": 35,
   "metadata": {},
   "outputs": [
    {
     "data": {
      "text/plain": [
       "Ridge(alpha=20.0, copy_X=True, fit_intercept=True, max_iter=None,\n",
       "   normalize=False, random_state=None, solver='auto', tol=0.001)"
      ]
     },
     "execution_count": 35,
     "metadata": {},
     "output_type": "execute_result"
    }
   ],
   "source": [
    "GS_model(X=X_train,y=y_train,ML_model=RR,param_grid=RR_grid_param)"
   ]
  },
  {
   "cell_type": "code",
   "execution_count": 10,
   "metadata": {},
   "outputs": [
    {
     "data": {
      "text/plain": [
       "RandomForestRegressor(bootstrap=True, criterion='mse', max_depth=10,\n",
       "           max_features='auto', max_leaf_nodes=None,\n",
       "           min_impurity_decrease=0.0, min_impurity_split=None,\n",
       "           min_samples_leaf=1, min_samples_split=2,\n",
       "           min_weight_fraction_leaf=0.0, n_estimators=400, n_jobs=1,\n",
       "           oob_score=False, random_state=None, verbose=0, warm_start=False)"
      ]
     },
     "execution_count": 10,
     "metadata": {},
     "output_type": "execute_result"
    }
   ],
   "source": [
    "GS_model(X=X_train,y=y_train,ML_model=RFR,param_grid=RFR_grid_param)"
   ]
  },
  {
   "cell_type": "code",
   "execution_count": 85,
   "metadata": {},
   "outputs": [
    {
     "data": {
      "text/plain": [
       "ElasticNet(alpha=0.01, copy_X=True, fit_intercept=True, l1_ratio=0.001,\n",
       "      max_iter=5000, normalize=False, positive=False, precompute=False,\n",
       "      random_state=None, selection='random', tol=0.0001, warm_start=False)"
      ]
     },
     "execution_count": 85,
     "metadata": {},
     "output_type": "execute_result"
    }
   ],
   "source": [
    "GS_model(X=X_train,y=y_train,ML_model=EN,param_grid=EN_grid_param)"
   ]
  },
  {
   "cell_type": "code",
   "execution_count": 20,
   "metadata": {},
   "outputs": [],
   "source": [
    "\n",
    "pca = PCA().fit(X_train)"
   ]
  },
  {
   "cell_type": "code",
   "execution_count": 21,
   "metadata": {},
   "outputs": [
    {
     "data": {
      "text/plain": [
       "[<matplotlib.lines.Line2D at 0x10cd2cac8>]"
      ]
     },
     "execution_count": 21,
     "metadata": {},
     "output_type": "execute_result"
    },
    {
     "data": {
      "image/png": "[encoded data removed]",
      "text/plain": [
       "<Figure size 1440x720 with 1 Axes>"
      ]
     },
     "metadata": {},
     "output_type": "display_data"
    }
   ],
   "source": [
    "plt.figure(figsize=(20,10))\n",
    "plt.title('PCA')\n",
    "plt.semilogy(pca.explained_variance_ratio_, '--o')"
   ]
  },
  {
   "cell_type": "code",
   "execution_count": 22,
   "metadata": {},
   "outputs": [
    {
     "data": {
      "text/plain": [
       "[<matplotlib.lines.Line2D at 0x10dbbf898>]"
      ]
     },
     "execution_count": 22,
     "metadata": {},
     "output_type": "execute_result"
    },
    {
     "data": {
      "image/png": "[encoded data removed]",
      "text/plain": [
       "<Figure size 432x288 with 1 Axes>"
      ]
     },
     "metadata": {},
     "output_type": "display_data"
    }
   ],
   "source": [
    "plt.title('Using PCA')\n",
    "plt.semilogy(pca.explained_variance_ratio_.cumsum(), '--o')"
   ]
  },
  {
   "cell_type": "code",
   "execution_count": 29,
   "metadata": {},
   "outputs": [
    {
     "data": {
      "text/plain": [
       "0.7289144080753105"
      ]
     },
     "execution_count": 29,
     "metadata": {},
     "output_type": "execute_result"
    }
   ],
   "source": [
    "pca.explained_variance_ratio_.cumsum()[20]"
   ]
  },
  {
   "cell_type": "code",
   "execution_count": null,
   "metadata": {},
   "outputs": [],
   "source": []
  },
  {
   "cell_type": "code",
   "execution_count": null,
   "metadata": {},
   "outputs": [],
   "source": []
  },
  {
   "cell_type": "code",
   "execution_count": null,
   "metadata": {},
   "outputs": [],
   "source": []
  },
  {
   "cell_type": "code",
   "execution_count": null,
   "metadata": {},
   "outputs": [],
   "source": [
    "class AveragingModels(BaseEstimator, RegressorMixin, TransformerMixin):\n",
    "    def __init__(self, models):\n",
    "        self.models = models\n",
    "        \n",
    "    # we define clones of the original models to fit the data in\n",
    "    def fit(self, X, y):\n",
    "        self.models_ = [clone(x) for x in self.models]\n",
    "        \n",
    "        # Train cloned base models\n",
    "        for model in self.models_:\n",
    "            model.fit(X, y)\n",
    "\n",
    "        return self\n",
    "    \n",
    "    #Now we do the predictions for cloned models and average them\n",
    "    def predict(self, X):\n",
    "        predictions = np.column_stack([\n",
    "            model.predict(X) for model in self.models_\n",
    "        ])\n",
    "        return np.mean(predictions, axis=1) "
   ]
  },
  {
   "cell_type": "code",
   "execution_count": null,
   "metadata": {},
   "outputs": [],
   "source": [
    "class StackingAveragedModels(BaseEstimator, RegressorMixin, TransformerMixin):\n",
    "    def __init__(self, base_models, meta_model, n_folds=5):\n",
    "        self.base_models = base_models\n",
    "        self.meta_model = meta_model\n",
    "        self.n_folds = n_folds\n",
    "   \n",
    "    # We again fit the data on clones of the original models\n",
    "    def fit(self, X, y):\n",
    "        self.base_models_ = [list() for x in self.base_models]\n",
    "        self.meta_model_ = clone(self.meta_model)\n",
    "        kfold = KFold(n_splits=self.n_folds, shuffle=True, random_state=156)\n",
    "        \n",
    "        # Train cloned base models then create out-of-fold predictions\n",
    "        # that are needed to train the cloned meta-model\n",
    "        out_of_fold_predictions = np.zeros((X.shape[0], len(self.base_models)))\n",
    "        for i, model in enumerate(self.base_models):\n",
    "            for train_index, holdout_index in kfold.split(X, y):\n",
    "                instance = clone(model)\n",
    "                self.base_models_[i].append(instance)\n",
    "                instance.fit(X[train_index], y[train_index])\n",
    "                y_pred = instance.predict(X[holdout_index])\n",
    "                out_of_fold_predictions[holdout_index, i] = y_pred\n",
    "                \n",
    "        # Now train the cloned  meta-model using the out-of-fold predictions as new feature\n",
    "        self.meta_model_.fit(out_of_fold_predictions, y)\n",
    "        return self\n",
    "   \n",
    "    #Do the predictions of all base models on the test data and use the averaged predictions as \n",
    "    #meta-features for the final prediction which is done by the meta-model\n",
    "    def predict(self, X):\n",
    "        meta_features = np.column_stack([\n",
    "            np.column_stack([model.predict(X) for model in base_models]).mean(axis=1)\n",
    "            for base_models in self.base_models_ ])\n",
    "        return self.meta_model_.predict(meta_features)"
   ]
  },
  {
   "cell_type": "code",
   "execution_count": null,
   "metadata": {},
   "outputs": [],
   "source": [
    "averaged_models = AveragingModels(models = (ENet, GBoost, KRR, lasso))\n",
    "\n",
    "score = rmsle_cv(averaged_models)\n",
    "print(\" Averaged base models score: {:.4f} ({:.4f})\\n\".format(score.mean(), score.std()))"
   ]
  },
  {
   "cell_type": "code",
   "execution_count": null,
   "metadata": {},
   "outputs": [],
   "source": []
  },
  {
   "cell_type": "code",
   "execution_count": 51,
   "metadata": {},
   "outputs": [],
   "source": []
  },
  {
   "cell_type": "code",
   "execution_count": null,
   "metadata": {},
   "outputs": [],
   "source": []
  }
 ],
 "metadata": {
  "kernelspec": {
   "display_name": "Python 3",
   "language": "python",
   "name": "python3"
  },
  "language_info": {
   "codemirror_mode": {
    "name": "ipython",
    "version": 3
   },
   "file_extension": ".py",
   "mimetype": "text/x-python",
   "name": "python",
   "nbconvert_exporter": "python",
   "pygments_lexer": "ipython3",
   "version": "3.6.5"
  }
 },
 "nbformat": 4,
 "nbformat_minor": 2
}
